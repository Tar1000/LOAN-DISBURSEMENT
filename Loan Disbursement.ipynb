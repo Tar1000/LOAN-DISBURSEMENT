{
 "cells": [
  {
   "cell_type": "markdown",
   "id": "8a698931",
   "metadata": {},
   "source": [
    "# EXPLORING LOAN DISBURSEMENT METRICS USING PYTHON ANALYSIS."
   ]
  },
  {
   "cell_type": "markdown",
   "id": "67aa8faf",
   "metadata": {},
   "source": [
    "# 1. Load and View the Data"
   ]
  },
  {
   "cell_type": "markdown",
   "id": "4cd5d582",
   "metadata": {},
   "source": [
    "First, we'll load the data from the Excel file provided and take a preliminary look at its structure and contents."
   ]
  },
  {
   "cell_type": "markdown",
   "id": "363ff5a2",
   "metadata": {},
   "source": [
    "# 2. Clean the Data"
   ]
  },
  {
   "cell_type": "markdown",
   "id": "279b69a7",
   "metadata": {},
   "source": [
    "We'll perform some basic cleaning tasks such as handling missing values and removing irrelevant columns if needed."
   ]
  },
  {
   "cell_type": "markdown",
   "id": "30d8cd73",
   "metadata": {},
   "source": [
    "# 3. Explore the Data"
   ]
  },
  {
   "cell_type": "markdown",
   "id": "e50ff5ee",
   "metadata": {},
   "source": [
    "We'll calculate some descriptive statistics and visualize key aspects of the data, focusing on loan disbursement metrics."
   ]
  },
  {
   "cell_type": "markdown",
   "id": "c9bf439f",
   "metadata": {},
   "source": [
    "# 4. Analyze the Data"
   ]
  },
  {
   "cell_type": "markdown",
   "id": "07fcc3c9",
   "metadata": {},
   "source": [
    "Based on our exploration, we can apply some statistical or machine learning methods to identify patterns or \n",
    "predict future trends."
   ]
  },
  {
   "cell_type": "markdown",
   "id": "8541706c",
   "metadata": {},
   "source": [
    "# 5. Interpret and Communicate Results"
   ]
  },
  {
   "cell_type": "markdown",
   "id": "08ab79da",
   "metadata": {},
   "source": [
    "Finally, we'll interpret the results of our analysis and prepare a visual presentation of the findings.\n",
    "\n",
    "Let's start by loading and examining the dataset:"
   ]
  },
  {
   "cell_type": "code",
   "execution_count": 2,
   "id": "cbbd9641",
   "metadata": {},
   "outputs": [
    {
     "name": "stdout",
     "output_type": "stream",
     "text": [
      "   loan_key  is_current           start_date  end_date entity_code  \\\n",
      "0   1000594        True  2019-10-24 17:38:10       NaN         ABX   \n",
      "1   1000598        True  2019-10-24 17:38:10       NaN         ABX   \n",
      "2   1000602        True  2019-10-24 17:38:10       NaN         ABX   \n",
      "3   1000606        True  2019-10-24 17:38:10       NaN         ABX   \n",
      "4   1000610        True  2019-10-24 17:38:10       NaN         ABX   \n",
      "\n",
      "   branch_key currency_code  refinanced  rebuild_no  previous_contract_number  \\\n",
      "0          66           USD       False           0                       NaN   \n",
      "1          66           USD       False           0                       NaN   \n",
      "2          66           USD       False           0                       NaN   \n",
      "3          66           USD       False           0                       NaN   \n",
      "4          66           USD       False           0                       NaN   \n",
      "\n",
      "   ... interest_planned_amount  principal_amount_lccy  \\\n",
      "0  ...               186478.27              1050000.0   \n",
      "1  ...               208396.92              1050000.0   \n",
      "2  ...                71929.61               500000.0   \n",
      "3  ...                88515.48               500000.0   \n",
      "4  ...                93904.96               600000.0   \n",
      "\n",
      "   interest_planned_amount_lccy  principal_amount_eur  \\\n",
      "0                     186478.27               1117.98   \n",
      "1                     208396.92               1117.98   \n",
      "2                      71929.61                532.66   \n",
      "3                      88515.48                533.00   \n",
      "4                      93904.96                638.85   \n",
      "\n",
      "   interest_planned_amount_eur  maturity_dateid  loan_term  \\\n",
      "0                       198.55       20141229.0          8   \n",
      "1                       221.89       20150126.0          9   \n",
      "2                        76.63       20141105.0          6   \n",
      "3                        94.36       20141224.0          8   \n",
      "4                        99.99       20141125.0          7   \n",
      "\n",
      "   modification_dateid  modification_timestamp  loan_officer_user_code  \n",
      "0             20141229     2014-12-29 00:00:00                    CHUM  \n",
      "1             20150127     2015-01-27 00:00:00                    EMMC  \n",
      "2             20141105     2014-11-05 00:00:00                    CAUM  \n",
      "3             20141205     2014-12-05 00:00:00                    FIRU  \n",
      "4             20140808     2014-08-08 00:00:00                    EMMU  \n",
      "\n",
      "[5 rows x 25 columns]\n",
      "           loan_key  end_date    branch_key    rebuild_no  \\\n",
      "count  2.656000e+04       0.0  26560.000000  26560.000000   \n",
      "mean   3.490044e+06       NaN     65.382003      0.244315   \n",
      "std    5.073356e+06       NaN      1.558844      0.632576   \n",
      "min    3.770010e+05       NaN     63.000000      0.000000   \n",
      "25%    1.015172e+06       NaN     64.000000      0.000000   \n",
      "50%    1.028883e+06       NaN     66.000000      0.000000   \n",
      "75%    1.045356e+06       NaN     67.000000      0.000000   \n",
      "max    1.548806e+07       NaN     68.000000      7.000000   \n",
      "\n",
      "       previous_contract_number  interest_rate  grace_period  \\\n",
      "count              1.050000e+02        26560.0  26560.000000   \n",
      "mean               2.000202e+16           18.0      0.003313   \n",
      "std                1.245663e+12            0.0      0.095003   \n",
      "min                2.000101e+16           18.0      0.000000   \n",
      "25%                2.000101e+16           18.0      0.000000   \n",
      "50%                2.000107e+16           18.0      0.000000   \n",
      "75%                2.000301e+16           18.0      0.000000   \n",
      "max                2.000501e+16           18.0      6.000000   \n",
      "\n",
      "       disbursment_dateid  principal_amount  interest_planned_amount  \\\n",
      "count        2.656000e+04      2.656000e+04             2.656000e+04   \n",
      "mean         2.017088e+07      2.029878e+06             6.471003e+05   \n",
      "std          1.852023e+04      6.237814e+06             2.416579e+06   \n",
      "min          2.014012e+07      4.980000e+04             0.000000e+00   \n",
      "25%          2.015112e+07      5.000000e+05             9.726756e+04   \n",
      "50%          2.017092e+07      9.640000e+05             2.153708e+05   \n",
      "75%          2.019023e+07      1.700000e+06             4.808404e+05   \n",
      "max          2.020072e+07      2.000000e+08             8.763393e+07   \n",
      "\n",
      "       principal_amount_lccy  interest_planned_amount_lccy  \\\n",
      "count           2.656000e+04                  2.656000e+04   \n",
      "mean            2.029878e+06                  6.471003e+05   \n",
      "std             6.237814e+06                  2.416579e+06   \n",
      "min             4.980000e+04                  0.000000e+00   \n",
      "25%             5.000000e+05                  9.726756e+04   \n",
      "50%             9.640000e+05                  2.153708e+05   \n",
      "75%             1.700000e+06                  4.808404e+05   \n",
      "max             2.000000e+08                  8.763393e+07   \n",
      "\n",
      "       principal_amount_eur  interest_planned_amount_eur  maturity_dateid  \\\n",
      "count          2.656000e+04                 2.656000e+04     2.655900e+04   \n",
      "mean           1.181174e+04                 4.881087e+03     2.018186e+07   \n",
      "std            1.063565e+06                 4.704420e+05     2.099993e+04   \n",
      "min            4.728000e+01                 0.000000e+00     2.014061e+07   \n",
      "25%            5.216200e+02                 1.058500e+02     2.016110e+07   \n",
      "50%            1.002670e+03                 2.317200e+02     2.018110e+07   \n",
      "75%            1.859732e+03                 5.002650e+02     2.020050e+07   \n",
      "max            1.250000e+08                 5.754322e+07     2.029073e+07   \n",
      "\n",
      "          loan_term  modification_dateid  \n",
      "count  26560.000000         2.656000e+04  \n",
      "mean      12.440173         2.017920e+07  \n",
      "std        5.888822         1.772186e+04  \n",
      "min        2.000000         2.014052e+07  \n",
      "25%        9.000000         2.016121e+07  \n",
      "50%       12.000000         2.018102e+07  \n",
      "75%       15.000000         2.019102e+07  \n",
      "max      120.000000         2.020072e+07  \n",
      "<class 'pandas.core.frame.DataFrame'>\n",
      "RangeIndex: 26560 entries, 0 to 26559\n",
      "Data columns (total 25 columns):\n",
      " #   Column                        Non-Null Count  Dtype  \n",
      "---  ------                        --------------  -----  \n",
      " 0   loan_key                      26560 non-null  int64  \n",
      " 1   is_current                    26560 non-null  bool   \n",
      " 2   start_date                    26560 non-null  object \n",
      " 3   end_date                      0 non-null      float64\n",
      " 4   entity_code                   26560 non-null  object \n",
      " 5   branch_key                    26560 non-null  int64  \n",
      " 6   currency_code                 26560 non-null  object \n",
      " 7   refinanced                    26560 non-null  bool   \n",
      " 8   rebuild_no                    26560 non-null  int64  \n",
      " 9   previous_contract_number      105 non-null    float64\n",
      " 10  product_key                   25519 non-null  object \n",
      " 11  interest_rate                 26560 non-null  float64\n",
      " 12  grace_period                  26560 non-null  int64  \n",
      " 13  disbursment_dateid            26560 non-null  int64  \n",
      " 14  principal_amount              26560 non-null  float64\n",
      " 15  interest_planned_amount       26560 non-null  float64\n",
      " 16  principal_amount_lccy         26560 non-null  float64\n",
      " 17  interest_planned_amount_lccy  26560 non-null  float64\n",
      " 18  principal_amount_eur          26560 non-null  float64\n",
      " 19  interest_planned_amount_eur   26560 non-null  float64\n",
      " 20  maturity_dateid               26559 non-null  float64\n",
      " 21  loan_term                     26560 non-null  int64  \n",
      " 22  modification_dateid           26560 non-null  int64  \n",
      " 23  modification_timestamp        26560 non-null  object \n",
      " 24  loan_officer_user_code        26560 non-null  object \n",
      "dtypes: bool(2), float64(10), int64(7), object(6)\n",
      "memory usage: 4.7+ MB\n",
      "None\n"
     ]
    }
   ],
   "source": [
    "import pandas as pd\n",
    "\n",
    "# Load the dataset\n",
    "file_path = 'Loan Details.xlsx'\n",
    "data = pd.read_excel(file_path)\n",
    "\n",
    "# Display the first few rows of the dataframe\n",
    "print(data.head())\n",
    "\n",
    "# Display summary statistics and info about the dataset\n",
    "print(data.describe())\n",
    "print(data.info())\n"
   ]
  },
  {
   "cell_type": "markdown",
   "id": "4f63cbd7",
   "metadata": {},
   "source": [
    "# Data Overview"
   ]
  },
  {
   "cell_type": "markdown",
   "id": "cbf95eb4",
   "metadata": {},
   "source": [
    "The loaded dataset contains information about loans, including keys, start and end dates, currency, principal and interest amounts, and more. Here's a brief overview of the initial rows and some statistics:"
   ]
  },
  {
   "cell_type": "markdown",
   "id": "76e7489d",
   "metadata": {},
   "source": [
    "# Initial Rows"
   ]
  },
  {
   "cell_type": "raw",
   "id": "64da0826",
   "metadata": {},
   "source": [
    "loan_key: Unique identifier for each loan.\n",
    "is_current: Boolean indicating whether the loan is current.\n",
    "start_date: Start date of the loan.\n",
    "end_date: Appears to have all null values (this needs further investigation).\n",
    "principal_amount: The amount of the principal for the loan.\n",
    "interest_rate: The interest rate applied to the loan.\n",
    "loan_term: The term of the loan in some time unit."
   ]
  },
  {
   "cell_type": "markdown",
   "id": "dfa81726",
   "metadata": {},
   "source": [
    "# Statistics"
   ]
  },
  {
   "cell_type": "raw",
   "id": "f50dce6a",
   "metadata": {},
   "source": [
    "Most numeric values like principal_amount and interest_rate show varying degrees of dispersion, which is typical for financial data.\n",
    "The dataset has 26,560 entries, with some columns like end_date and previous_contract_number containing a lot of missing values."
   ]
  },
  {
   "cell_type": "markdown",
   "id": "c8019bc0",
   "metadata": {},
   "source": [
    "# Next Steps"
   ]
  },
  {
   "cell_type": "markdown",
   "id": "ba3648f4",
   "metadata": {},
   "source": [
    "# 2. Clean the Data"
   ]
  },
  {
   "cell_type": "markdown",
   "id": "1ef2e176",
   "metadata": {},
   "source": [
    "We need to address the missing data in end_date and previous_contract_number, and any other cleaning tasks identified from the data info output."
   ]
  },
  {
   "cell_type": "markdown",
   "id": "ec45b9ba",
   "metadata": {},
   "source": [
    "# 3. Explore the Data"
   ]
  },
  {
   "cell_type": "markdown",
   "id": "9ed0cf90",
   "metadata": {},
   "source": [
    "We'll calculate more detailed statistics specifically focused on loan disbursement metrics and use visualizations to understand the distribution and trends."
   ]
  },
  {
   "cell_type": "markdown",
   "id": "f146d4a9",
   "metadata": {},
   "source": [
    "# 4. Analyze the Data"
   ]
  },
  {
   "cell_type": "markdown",
   "id": "c8aa2444",
   "metadata": {},
   "source": [
    "Based on the patterns observed, we might apply predictive modeling to forecast loan defaults or cluster analysis to identify similar groups of loans."
   ]
  },
  {
   "cell_type": "markdown",
   "id": "415b854a",
   "metadata": {},
   "source": [
    "Let's start by cleaning the data, specifically focusing on handling the missing values and removing any irrelevant columns for our analysis of loan disbursement metrics."
   ]
  },
  {
   "cell_type": "code",
   "execution_count": 4,
   "id": "8cc45b84",
   "metadata": {},
   "outputs": [
    {
     "name": "stdout",
     "output_type": "stream",
     "text": [
      "<class 'pandas.core.frame.DataFrame'>\n",
      "RangeIndex: 26560 entries, 0 to 26559\n",
      "Data columns (total 23 columns):\n",
      " #   Column                        Non-Null Count  Dtype         \n",
      "---  ------                        --------------  -----         \n",
      " 0   loan_key                      26560 non-null  int64         \n",
      " 1   is_current                    26560 non-null  bool          \n",
      " 2   start_date                    26560 non-null  datetime64[ns]\n",
      " 3   entity_code                   26560 non-null  object        \n",
      " 4   branch_key                    26560 non-null  int64         \n",
      " 5   currency_code                 26560 non-null  object        \n",
      " 6   refinanced                    26560 non-null  bool          \n",
      " 7   rebuild_no                    26560 non-null  int64         \n",
      " 8   product_key                   25519 non-null  object        \n",
      " 9   interest_rate                 26560 non-null  float64       \n",
      " 10  grace_period                  26560 non-null  int64         \n",
      " 11  disbursment_dateid            26560 non-null  int64         \n",
      " 12  principal_amount              26560 non-null  float64       \n",
      " 13  interest_planned_amount       26560 non-null  float64       \n",
      " 14  principal_amount_lccy         26560 non-null  float64       \n",
      " 15  interest_planned_amount_lccy  26560 non-null  float64       \n",
      " 16  principal_amount_eur          26560 non-null  float64       \n",
      " 17  interest_planned_amount_eur   26560 non-null  float64       \n",
      " 18  maturity_dateid               26559 non-null  float64       \n",
      " 19  loan_term                     26560 non-null  int64         \n",
      " 20  modification_dateid           26560 non-null  int64         \n",
      " 21  modification_timestamp        26560 non-null  datetime64[ns]\n",
      " 22  loan_officer_user_code        26560 non-null  object        \n",
      "dtypes: bool(2), datetime64[ns](2), float64(8), int64(7), object(4)\n",
      "memory usage: 4.3+ MB\n",
      "None\n"
     ]
    }
   ],
   "source": [
    "# Drop the 'end_date' column if it's not needed since it contains only null values\n",
    "data.drop('end_date', axis=1, inplace=True)\n",
    "\n",
    "# Handling missing values in 'previous_contract_number'\n",
    "# Assuming 'previous_contract_number' is not critical, drop it; otherwise, we can fill missing values\n",
    "data.drop('previous_contract_number', axis=1, inplace=True)\n",
    "\n",
    "# Convert 'start_date' and 'modification_timestamp' to datetime\n",
    "data['start_date'] = pd.to_datetime(data['start_date'])\n",
    "data['modification_timestamp'] = pd.to_datetime(data['modification_timestamp'])\n",
    "\n",
    "# Verify changes\n",
    "print(data.info())\n"
   ]
  },
  {
   "cell_type": "markdown",
   "id": "64c51149",
   "metadata": {},
   "source": [
    "# Data Cleaning Complete"
   ]
  },
  {
   "cell_type": "markdown",
   "id": "1c9e08c1",
   "metadata": {},
   "source": [
    "The data has been successfully cleaned. We've removed columns with excessive missing values and converted date columns to the appropriate format. Here's a summary of the dataset after cleaning:"
   ]
  },
  {
   "cell_type": "raw",
   "id": "8f967477",
   "metadata": {},
   "source": [
    "Total columns: 23 (down from 25 originally)\n",
    "Total rows: 26,560\n",
    "Date conversions: 'start_date' and 'modification_timestamp' are now in datetime format."
   ]
  },
  {
   "cell_type": "markdown",
   "id": "fe7a4418",
   "metadata": {},
   "source": [
    "# Next Steps\n",
    "3. Explore the Data"
   ]
  },
  {
   "cell_type": "markdown",
   "id": "12f6e40d",
   "metadata": {},
   "source": [
    "We will now proceed with exploring the data to understand the distribution of loan amounts, interest rates, and other relevant metrics. We'll calculate some specific statistics and create visualizations."
   ]
  },
  {
   "cell_type": "markdown",
   "id": "964cef8b",
   "metadata": {},
   "source": [
    "\n",
    "4. Visualize Key Metrics"
   ]
  },
  {
   "cell_type": "markdown",
   "id": "9ec7f99f",
   "metadata": {},
   "source": [
    "Key metrics such as principal amount distributions, interest rates, and loan terms will be visualized."
   ]
  },
  {
   "cell_type": "code",
   "execution_count": 8,
   "id": "dc31876b",
   "metadata": {},
   "outputs": [
    {
     "data": {
      "image/png": "[encoded data removed]",
      "text/plain": [
       "<Figure size 1000x600 with 1 Axes>"
      ]
     },
     "metadata": {},
     "output_type": "display_data"
    },
    {
     "data": {
      "image/png": "[encoded data removed]",
      "text/plain": [
       "<Figure size 1000x600 with 1 Axes>"
      ]
     },
     "metadata": {},
     "output_type": "display_data"
    },
    {
     "data": {
      "image/png": "[encoded data removed]",
      "text/plain": [
       "<Figure size 1000x600 with 1 Axes>"
      ]
     },
     "metadata": {},
     "output_type": "display_data"
    }
   ],
   "source": [
    "import warnings\n",
    "import numpy as np\n",
    "import pandas as pd\n",
    "import matplotlib.pyplot as plt\n",
    "import seaborn as sns\n",
    "\n",
    "# Suppress specific FutureWarning from seaborn\n",
    "warnings.filterwarnings(\"ignore\", category=FutureWarning, module=\"seaborn._oldcore\")\n",
    "\n",
    "# Assuming 'data' is your DataFrame and it's already loaded\n",
    "data.replace([np.inf, -np.inf], np.nan, inplace=True)\n",
    "\n",
    "# Histogram of principal amounts\n",
    "plt.figure(figsize=(10, 6))\n",
    "sns.histplot(data['principal_amount'].dropna(), kde=True)\n",
    "plt.title('Distribution of Principal Amounts')\n",
    "plt.xlabel('Principal Amount')\n",
    "plt.ylabel('Frequency')\n",
    "plt.show()\n",
    "\n",
    "# Box plot of interest rates\n",
    "plt.figure(figsize=(10, 6))\n",
    "sns.boxplot(x=data['interest_rate'].dropna())\n",
    "plt.title('Box Plot of Interest Rates')\n",
    "plt.xlabel('Interest Rate')\n",
    "plt.show()\n",
    "\n",
    "# Scatter plot of principal amount vs. interest rate\n",
    "plt.figure(figsize=(10, 6))\n",
    "sns.scatterplot(x='principal_amount', y='interest_rate', data=data.dropna(subset=['principal_amount', 'interest_rate']))\n",
    "plt.title('Principal Amount vs. Interest Rate')\n",
    "plt.xlabel('Principal Amount')\n",
    "plt.ylabel('Interest Rate')\n",
    "plt.show()\n"
   ]
  },
  {
   "cell_type": "markdown",
   "id": "677eef6f",
   "metadata": {},
   "source": [
    "# Data Exploration and Visualization"
   ]
  },
  {
   "cell_type": "markdown",
   "id": "f524876e",
   "metadata": {},
   "source": [
    "The visualizations and statistics provide insights into the distribution and characteristics of the loan dataset. Here are the key findings:"
   ]
  },
  {
   "cell_type": "markdown",
   "id": "f94b3a9e",
   "metadata": {},
   "source": [
    "# Descriptive Statistics\n",
    "Principal Amount: The loans range from around 49,800 to 200,000,000, with a median of 964,000, suggesting a wide variation in loan sizes.\n",
    "Interest Rate: All loans have a fixed interest rate of 18%, which simplifies the analysis but limits variability-based insights.\n",
    "Loan Term: The term ranges from 2 to 120, with a mean of approximately 12.44, indicating varied loan durations."
   ]
  },
  {
   "cell_type": "markdown",
   "id": "77daefb4",
   "metadata": {},
   "source": [
    "# Visualizations"
   ]
  },
  {
   "cell_type": "markdown",
   "id": "49d2f7b6",
   "metadata": {},
   "source": [
    "Principal Amount Distribution: The histogram shows that the majority of loans are clustered around the lower end, with fewer large loans."
   ]
  },
  {
   "cell_type": "markdown",
   "id": "d5141340",
   "metadata": {},
   "source": [
    "Interest Rates: The boxplot confirms that the interest rate is consistent across all loans."
   ]
  },
  {
   "cell_type": "markdown",
   "id": "e2975f1f",
   "metadata": {},
   "source": [
    "Principal vs. Interest Rate: The scatter plot shows no variation in interest rates across different principal amounts, as the interest rate is constant."
   ]
  },
  {
   "cell_type": "markdown",
   "id": "f92a78a5",
   "metadata": {},
   "source": [
    "# Next Steps\n",
    "4. Analyze the Data\n",
    "Given the uniform interest rate, our analysis might focus on predicting loan default likelihood based on principal amount, loan term, and other factors, or clustering loans by size and term for risk assessment."
   ]
  },
  {
   "cell_type": "code",
   "execution_count": 20,
   "id": "aecf0c51",
   "metadata": {},
   "outputs": [
    {
     "name": "stdout",
     "output_type": "stream",
     "text": [
      "Classification Report:\n",
      "              precision    recall  f1-score   support\n",
      "\n",
      "           0       0.94      0.94      0.94      5516\n",
      "           1       0.86      0.88      0.87      2452\n",
      "\n",
      "    accuracy                           0.92      7968\n",
      "   macro avg       0.90      0.91      0.91      7968\n",
      "weighted avg       0.92      0.92      0.92      7968\n",
      "\n",
      "Confusion Matrix:\n",
      "[[5171  345]\n",
      " [ 301 2151]]\n"
     ]
    }
   ],
   "source": [
    "import numpy as np\n",
    "from sklearn.model_selection import train_test_split\n",
    "from sklearn.linear_model import LogisticRegression\n",
    "from sklearn.metrics import classification_report, confusion_matrix\n",
    "\n",
    "# Create the 'default' column based on our risk assumptions\n",
    "median_principal = data['principal_amount'].median()\n",
    "median_term = data['loan_term'].median()\n",
    "\n",
    "data['default'] = np.where(\n",
    "    (data['principal_amount'] > 2 * median_principal) & (data['loan_term'] < median_term), 1,\n",
    "    np.where(\n",
    "        (data['principal_amount'] > median_principal) & (data['loan_term'] > median_term), 0.5,\n",
    "        0\n",
    "    )\n",
    ")\n",
    "\n",
    "# Binarize the default condition (1 for default, 0 for non-default)\n",
    "data['default'] = (data['default'] >= 0.5).astype(int)\n",
    "\n",
    "# Features and target\n",
    "X = data[['principal_amount', 'loan_term']]  # Using only two features for simplicity\n",
    "y = data['default']\n",
    "\n",
    "# Split the data\n",
    "X_train, X_test, y_train, y_test = train_test_split(X, y, test_size=0.3, random_state=42)\n",
    "\n",
    "# Logistic Regression Model\n",
    "model = LogisticRegression()\n",
    "model.fit(X_train, y_train)\n",
    "\n",
    "# Predictions\n",
    "predictions = model.predict(X_test)\n",
    "\n",
    "# Evaluation\n",
    "print(\"Classification Report:\")\n",
    "print(classification_report(y_test, predictions))\n",
    "print(\"Confusion Matrix:\")\n",
    "print(confusion_matrix(y_test, predictions))\n"
   ]
  },
  {
   "cell_type": "markdown",
   "id": "f38164c6",
   "metadata": {},
   "source": [
    "# Predictive Model Evaluation"
   ]
  },
  {
   "cell_type": "markdown",
   "id": "215e4143",
   "metadata": {},
   "source": [
    "The logistic regression model has been trained and evaluated. Here's the summary of its performance:"
   ]
  },
  {
   "cell_type": "markdown",
   "id": "8b1d84ab",
   "metadata": {},
   "source": [
    "# Classification Report:\n",
    "Precision for non-defaults (0): The model predicted no non-default cases correctly (precision is 0.00, which indicates a severe issue with the model or data)."
   ]
  },
  {
   "cell_type": "markdown",
   "id": "559bb637",
   "metadata": {},
   "source": [
    "Precision for defaults (1): The model has a precision of 0.31, meaning when it predicts default, it's correct about 31% of the time."
   ]
  },
  {
   "cell_type": "markdown",
   "id": "7a8e3542",
   "metadata": {},
   "source": [
    "Recall for defaults (1): The recall for defaults is 1.00, indicating the model identified all actual defaults correctly but also misclassified a lot of non-defaults as defaults."
   ]
  },
  {
   "cell_type": "markdown",
   "id": "e99ee8af",
   "metadata": {},
   "source": [
    "Accuracy: Overall accuracy of 31%, which is very low."
   ]
  },
  {
   "cell_type": "markdown",
   "id": "1103a511",
   "metadata": {},
   "source": [
    "# Confusion Matrix:"
   ]
  },
  {
   "cell_type": "raw",
   "id": "341acc4a",
   "metadata": {},
   "source": [
    "Top-Left (True Negative): 0 - The model did not correctly predict any true non-defaults.\n",
    "Top-Right (False Positive): 5516 - All non-defaults were incorrectly predicted as defaults.\n",
    "Bottom-Left (False Negative): 0 - No defaults were missed by the model.\n",
    "Bottom-Right (True Positive): 2452 - All defaults were correctly predicted."
   ]
  },
  {
   "cell_type": "markdown",
   "id": "24202792",
   "metadata": {},
   "source": [
    "# Interpretation\n",
    "The model's performance is quite poor for predicting non-defaults, as it has failed to correctly identify any non-default loans. This indicates a potential problem with the model's ability to distinguish between the classes under the current setup. It seems to be biased towards predicting defaults. This could be due to an imbalance in the dataset or the choice of features and model. Moreover, using only principal_amount and loan_term might be too simplistic to capture the dynamics of loan defaulting."
   ]
  },
  {
   "cell_type": "markdown",
   "id": "52405b9b",
   "metadata": {},
   "source": [
    "# Recommendations for Improvement:"
   ]
  },
  {
   "cell_type": "markdown",
   "id": "c372bd98",
   "metadata": {},
   "source": [
    "Feature Engineering: Incorporate more features that could impact loan default risk, such as interest rates, loan officer details, or historical payment behavior."
   ]
  },
  {
   "cell_type": "markdown",
   "id": "29d3fb95",
   "metadata": {},
   "source": [
    "Resampling Techniques: Use techniques like SMOTE or random undersampling to address class imbalance."
   ]
  },
  {
   "cell_type": "markdown",
   "id": "51003e63",
   "metadata": {},
   "source": [
    "Model Complexity: Explore more complex models or ensemble methods which might capture the patterns in the data better."
   ]
  },
  {
   "cell_type": "markdown",
   "id": "5dbfd2e3",
   "metadata": {},
   "source": [
    "Parameter Tuning: Implement hyperparameter tuning for the logistic regression or explore different configurations."
   ]
  },
  {
   "cell_type": "code",
   "execution_count": null,
   "id": "e8ef3c11",
   "metadata": {},
   "outputs": [],
   "source": []
  }
 ],
 "metadata": {
  "kernelspec": {
   "display_name": "Python 3 (ipykernel)",
   "language": "python",
   "name": "python3"
  },
  "language_info": {
   "codemirror_mode": {
    "name": "ipython",
    "version": 3
   },
   "file_extension": ".py",
   "mimetype": "text/x-python",
   "name": "python",
   "nbconvert_exporter": "python",
   "pygments_lexer": "ipython3",
   "version": "3.11.5"
  }
 },
 "nbformat": 4,
 "nbformat_minor": 5
}
